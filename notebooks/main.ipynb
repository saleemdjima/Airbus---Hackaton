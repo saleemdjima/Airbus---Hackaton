{
  "cells": [
    {
      "cell_type": "markdown",
      "metadata": {
        "id": "2pwnogvlElEB"
      },
      "source": [
        "# HACHKATON AirBus\n",
        "Ce notebook est le fruit du travail de:\n",
        "\n",
        "|Nom | Prénom|\n",
        "|---|---|\n",
        "| AHOUNOU | Méryl |\n",
        "| DJIMA | Saleem |\n",
        "| ILBOUDO| BEN |\n",
        "| SORHO | Michaela |\n",
        "\n",
        "\n",
        "Les missions de cet hackathon sont les suivantes:\n",
        "\n",
        "    La première mission est de détecter le numéro d'immatriculation à partir de photos d'hélicoptères. Vous allez entraîner votre modèle avec les dossiers train et validation. Ensuite, vous le testerez avec le dossier test. Tous les labels correspondant aux images des 3 dossiers sont dans le dossier label. \n",
        "    Pour mesurer la performance de votre modèle, deux métriques seront utilisées : la précision moyenne (MAP) et la précision moyenne (AP).\n",
        "    Pour cette mission, vous livrerez :\n",
        "    -un fichier csv contenant les coordonnées du numéro d'immatriculation prédit sur l'image (ID, et coordonnées) pour les images de test.\n",
        "    -un fichier csv contenant l'ID de l'image et la précision moyenne (MAP) et la précision moyenne (AP) pour chaque photo de test\n",
        "    -un notebook ou un code python permettant d'exécuter votre modèle.\n",
        "\n",
        "    Le deuxième objectif de la mission est de prendre les images de la source de données Jetson (les ID de ces images sont détaillées dans le fichier de données d'enregistrement). Pour toutes ces données, vous allez extraire le numéro d'enregistrement grâce à votre modèle de la première mission. Ensuite, vous allez essayer de lire le numéro d'enregistrement !\n",
        "    Pour mesurer la performance de votre méthode, la métrique sera la suivante : Nombre de numéros d'immatriculation exacts lus / Nombre de numéros d'immatriculation à lire.\n",
        "    Pour cette mission, vous livrerez :\n",
        "    -un fichier csv contenant l'identifiant de l'image des données jetson et le numéro d'enregistrement prédit / lu.\n",
        "    -un notebook ou un fichier python permettant d'exécuter votre modèle."
      ]
    },
    {
      "cell_type": "markdown",
      "metadata": {
        "id": "dSgDPWpbGSoP"
      },
      "source": [
        "Installation des packages"
      ]
    },
    {
      "cell_type": "code",
      "execution_count": 1,
      "metadata": {
        "id": "ZR1SeXZ2o6SK"
      },
      "outputs": [],
      "source": [
        "!pip install imutils"
      ]
    },
    {
      "cell_type": "code",
      "execution_count": 2,
      "metadata": {
        "id": "byf0_7rwPNaY"
      },
      "outputs": [],
      "source": [
        "!pip install map-boxes"
      ]
    },
    {
      "cell_type": "code",
      "execution_count": 3,
      "metadata": {
        "id": "CQZxUh1so_ds"
      },
      "outputs": [],
      "source": [
        "!pip install easyocr"
      ]
    },
    {
      "cell_type": "code",
      "execution_count": 4,
      "metadata": {
        "id": "vFUszKQZ7_Wp"
      },
      "outputs": [],
      "source": [
        "!pip install mean_average_precision"
      ]
    },
    {
      "cell_type": "code",
      "execution_count": 5,
      "metadata": {
        "id": "nTTjpcdn8NsA"
      },
      "outputs": [],
      "source": [
        "!pip install --upgrade git+https://github.com/bes-dev/mean_average_precision.git"
      ]
    },
    {
      "cell_type": "code",
      "execution_count": 6,
      "metadata": {
        "id": "0Mmw_4bPo0lv"
      },
      "outputs": [],
      "source": [
        "!pip install opencv-contrib-python==3.4.13.47 --force-reinstall"
      ]
    },
    {
      "cell_type": "code",
      "execution_count": null,
      "metadata": {
        "id": "QbuOre7dQKPu"
      },
      "outputs": [],
      "source": [
        "from google.colab import drive\n",
        "import cv2\n",
        "import matplotlib.pyplot as plt\n",
        "import os\n",
        "import xml.etree.ElementTree as et\n",
        "import random\n",
        "import argparse\n",
        "import numpy as np\n",
        "import pandas as pd\n",
        "from google.colab.patches import cv2_imshow\n",
        "from matplotlib import pyplot as plt\n",
        "import imutils\n",
        "import easyocr\n",
        "from skimage.io import imread, imshow\n",
        "from mean_average_precision import MetricBuilder\n",
        "from map_boxes import mean_average_precision_for_boxes"
      ]
    },
    {
      "cell_type": "code",
      "execution_count": null,
      "metadata": {
        "id": "EM8ppRDqY-w1"
      },
      "outputs": [],
      "source": [
        "# On a connecté Google Colab au drive pour qu'il puisse accéder aux images et sauvegarder les résultats\n",
        "drive.mount('/content/drive')"
      ]
    },
    {
      "cell_type": "markdown",
      "metadata": {
        "id": "tDn0KCypGGfE"
      },
      "source": [
        "# Mission 1: Détection des numéros d'immatriculation"
      ]
    },
    {
      "cell_type": "markdown",
      "metadata": {
        "id": "yP2_HTMVHAV4"
      },
      "source": [
        "On a récupérer les coordonnées des images pour le train et la validation du fichier label sous format qu'on a utilisé pour générer un fichier txt contenant les coordonnées des détections sous format YOLO"
      ]
    },
    {
      "cell_type": "code",
      "execution_count": null,
      "metadata": {
        "id": "55fYjrEmdfJG"
      },
      "outputs": [],
      "source": [
        "# ##### A N'EXECUTER QU'UNE SEULE FOIS\n",
        "# # génération des fichiers txt pour les coordonnées (train)\n",
        "# path_img = '/content/drive/MyDrive/hackathon/train'  # changer le chemin en fonction du répertoire ou se trouvent les images train\n",
        "# path_lab = '/content/drive/MyDrive/hackathon/labels' # changer le chemin en fonction du répertoire ou se trouvent les labels\n",
        "# input_dir = os.listdir(path_img)\n",
        "# for input in input_dir:\n",
        "#   txt_name = input.replace('.jpg', '.txt')\n",
        "#   txt_path = path_img + '/' + txt_name\n",
        "#   with open(txt_path, 'w') as f:\n",
        "#     if input[len(input)-4:len(input)] != '.txt':\n",
        "#       file = input\n",
        "#       file_lab = input.replace('.jpg', '.xml')\n",
        "#       img = cv2.imread(os.path.join(path_img,input))\n",
        "#       lab_tree = et.parse(os.path.join(path_lab,file_lab))\n",
        "#       root = lab_tree.getroot()\n",
        "#       for boxs in root.findall('object'):\n",
        "#         for box in boxs.findall('bndbox'):\n",
        "#           x1 = int(box.find('xmin').text)\n",
        "#           y1 = int(box.find('ymin').text)\n",
        "#           x2 = int(box.find('xmax').text)\n",
        "#           y2 = int(box.find('ymax').text)\n",
        "#           width = int(root[4][0].text)\n",
        "#           height = int(root[4][1].text)\n",
        "#           coordinates = str(0) + ' '  + str((x2+x1)/(2*width)) + ' ' + str((y2+y1)/(2*height)) + ' ' + str((x2-x1)/width) + ' ' + str((y2-y1)/height)+ '\\n'\n",
        "#           f.write(coordinates)"
      ]
    },
    {
      "cell_type": "code",
      "execution_count": null,
      "metadata": {
        "id": "KZnCamucq7Wq"
      },
      "outputs": [],
      "source": [
        "# ##### A N'EXECUTER QU'UNE SEULE FOIS\n",
        "# # génération des fichiers txt pour les coordonnées (valid)\n",
        "# path_img = '/content/drive/MyDrive/hackathon/valid' # changer le chemin en fonction du répertoire ou se trouvent les images de validation\n",
        "# path_lab = '/content/drive/MyDrive/hackathon/labels' # changer le chemin en fonction du répertoire ou se trouvent les labels\n",
        "# input_dir = os.listdir(path_img)\n",
        "# for input in input_dir:\n",
        "#   txt_name = input.replace('.jpg', '.txt')\n",
        "#   txt_path = path_img + '/' + txt_name\n",
        "#   with open(txt_path, 'w') as f:\n",
        "#     if input[len(input)-4:len(input)] != '.txt':\n",
        "#       file = input\n",
        "#       file_lab = input.replace('.jpg', '.xml')\n",
        "#       img = cv2.imread(os.path.join(path_img,input))\n",
        "#       lab_tree = et.parse(os.path.join(path_lab,file_lab))\n",
        "#       root = lab_tree.getroot()\n",
        "#       for boxs in root.findall('object'):\n",
        "#         for box in boxs.findall('bndbox'):\n",
        "#           x1 = int(box.find('xmin').text)\n",
        "#           y1 = int(box.find('ymin').text)\n",
        "#           x2 = int(box.find('xmax').text)\n",
        "#           y2 = int(box.find('ymax').text)\n",
        "#           width = int(root[4][0].text)\n",
        "#           height = int(root[4][1].text)\n",
        "#           coordinates = str(0) + ' '  + str((x2+x1)/(2*width)) + ' ' + str((y2+y1)/(2*height)) + ' ' + str((x2-x1)/width) + ' ' + str((y2-y1)/height)+ '\\n'\n",
        "#           f.write(coordinates)"
      ]
    },
    {
      "cell_type": "code",
      "execution_count": null,
      "metadata": {
        "id": "eRVv9yEpPXDf"
      },
      "outputs": [],
      "source": [
        "# On affiche aléatoirement des images pour visualiser\n",
        "path_img = '/content/drive/MyDrive/hackathon/train'\n",
        "path_lab = '/content/drive/MyDrive/hackathon/labels'\n",
        "input_dir = os.listdir(path_img)\n",
        "for i in range(20):\n",
        "  file = random.choice(input_dir)\n",
        "  if file[len(file)-4:len(file)] != '.txt':\n",
        "    file_lab = file.replace('.jpg', '.xml')\n",
        "    img = cv2.imread(os.path.join(path_img,file))\n",
        "    lab_tree = et.parse(os.path.join(path_lab,file_lab))\n",
        "    root = lab_tree.getroot()\n",
        "    print(file)\n",
        "    print(img.shape)\n",
        "    plt.figure(figsize=(15,40))\n",
        "    for boxs in root.findall('object'):\n",
        "      for box in boxs.findall('bndbox'):\n",
        "        x1 = int(box.find('xmin').text)\n",
        "        y1 = int(box.find('ymin').text)\n",
        "        x2 = int(box.find('xmax').text)\n",
        "        y2 = int(box.find('ymax').text)\n",
        "        print(x1,y1,x2,y2)\n",
        "        cv2.rectangle(img, (x1,y1), (x2,y2), (10,35,246), 4)\n",
        "    plt.imshow(cv2.cvtColor(img, cv2.COLOR_BGR2RGB))\n",
        "    plt.show()\n",
        "    print('\\n')"
      ]
    },
    {
      "cell_type": "code",
      "execution_count": null,
      "metadata": {
        "id": "Pvq6zR0vcUFM"
      },
      "outputs": [],
      "source": [
        "# Nous permet de visualiser une image précisément\n",
        "path_img = '/content/drive/MyDrive/hackathon/train'\n",
        "path_lab = '/content/drive/MyDrive/hackathon/labels'\n",
        "file = 'ID_470484_58756_1115745411.jpg'\n",
        "file_lab = file.replace('.jpg', '.xml')\n",
        "img = cv2.imread(os.path.join(path_img,file))\n",
        "lab_tree = et.parse(os.path.join(path_lab,file_lab))\n",
        "root = lab_tree.getroot()\n",
        "print(file)\n",
        "print(img.shape)\n",
        "plt.figure(figsize=(10,20))\n",
        "for boxs in root.findall('object'):\n",
        "  for box in boxs.findall('bndbox'):\n",
        "    x1 = int(box.find('xmin').text)\n",
        "    y1 = int(box.find('ymin').text)\n",
        "    x2 = int(box.find('xmax').text)\n",
        "    y2 = int(box.find('ymax').text)\n",
        "    print(x1,y1,x2,y2)\n",
        "    cv2.rectangle(img, (x1,y1), (x2,y2), (10,35,246), 4)\n",
        "plt.imshow(cv2.cvtColor(img, cv2.COLOR_BGR2RGB))\n",
        "plt.show()"
      ]
    },
    {
      "cell_type": "markdown",
      "metadata": {
        "id": "I8-9AqX7I5fs"
      },
      "source": [
        "# YOLO\n",
        "\n",
        "Pour la détection des immatriculations, nous avons décider d'utiliser le modèle YOLO 4 qui donne de bons résulats et est beaucoup plus rapides que les modèles par région (R-CNN, Fast R-CNN, Faster R-CNN...). Notre modèle a été réalisé par transfert learning."
      ]
    },
    {
      "cell_type": "code",
      "execution_count": null,
      "metadata": {
        "id": "Dkun8OftOIqe"
      },
      "outputs": [],
      "source": [
        "# création du répertoire YOLO\n",
        "path_yolo = '/content/drive/MyDrive/hackathon/yolo'\n",
        "if not os.path.exists(path_yolo):\n",
        "       os.mkdir(path_yolo)"
      ]
    },
    {
      "cell_type": "code",
      "execution_count": null,
      "metadata": {
        "id": "m7KxD7znjWHa"
      },
      "outputs": [],
      "source": [
        "# # On récupère la configuration du réseau de neurone\n",
        "# !wget https://raw.githubusercontent.com/AlexeyAB/darknet/master/cfg/yolov4.cfg"
      ]
    },
    {
      "cell_type": "code",
      "execution_count": null,
      "metadata": {
        "id": "N5zS6EKiorDi"
      },
      "outputs": [],
      "source": [
        "# # on récupère le poids du réseau de neurone\n",
        "# !wget https://github.com/AlexeyAB/darknet/releases/download/darknet_yolo_v3_optimal/yolov4.weights"
      ]
    },
    {
      "cell_type": "code",
      "execution_count": null,
      "metadata": {
        "id": "UJG3nVm-2HUc"
      },
      "outputs": [],
      "source": [
        "# # on récupère le fichier qui nous permet de calculer le poids pour notre réseau\n",
        "# !wget https://github.com/AlexeyAB/darknet/releases/download/darknet_yolo_v3_optimal/yolov4.conv.137"
      ]
    },
    {
      "cell_type": "code",
      "execution_count": null,
      "metadata": {
        "id": "R4me9EAaoxQv"
      },
      "outputs": [],
      "source": [
        "# # on copie les fichiers dans le répertoire YOLO\n",
        "# !cp '/content/yolov4.cfg'  /content/drive/MyDrive/hackathon/yolo\n",
        "# !cp '/content/yolov4.weights'  /content/drive/MyDrive/hackathon/yolo\n",
        "# !cp '/content/yolov4.conv.137'  /content/drive/MyDrive/hackathon/yolo"
      ]
    },
    {
      "cell_type": "code",
      "execution_count": null,
      "metadata": {
        "id": "aq5gSpUFraUv"
      },
      "outputs": [],
      "source": [
        "%cd '/content/drive/MyDrive/hackathon/yolo'"
      ]
    },
    {
      "cell_type": "code",
      "execution_count": null,
      "metadata": {
        "id": "XfSyLIKkmvTY"
      },
      "outputs": [],
      "source": [
        "# !git clone https://github.com/AlexeyAB/darknet"
      ]
    },
    {
      "cell_type": "code",
      "execution_count": null,
      "metadata": {
        "id": "FkobhxlomyDx"
      },
      "outputs": [],
      "source": [
        "%cd darknet\n",
        "!sed -i 's/OPENCV=0/OPENCV=1/' Makefile\n",
        "!sed -i 's/GPU=0/GPU=1/' Makefile\n",
        "!sed -i 's/CUDNN=0/CUDNN=1/' Makefile\n",
        "!sed -i 's/CUDNN_HALF=0/CUDNN_HALF=1/' Makefile\n",
        "!sed -i 's/LIBSO=0/LIBSO=1/' Makefile"
      ]
    },
    {
      "cell_type": "code",
      "execution_count": null,
      "metadata": {
        "id": "VDtgD5OQm2hj"
      },
      "outputs": [],
      "source": [
        "!chmod +rwx ./*\n",
        "!make"
      ]
    },
    {
      "cell_type": "code",
      "execution_count": null,
      "metadata": {
        "id": "xec69SnAnutu"
      },
      "outputs": [],
      "source": [
        "def display(_image):\n",
        "  img1 = imread(_image)\n",
        "  img2 = imread('predictions.jpg')\n",
        "  path_lab = '/content/drive/MyDrive/hackathon/labels'\n",
        "  file_name = _image.split('/')[-1]\n",
        "  file_lab = os.path.join(path_lab,file_name)\n",
        "  lab_path = file_lab.replace('.jpg', '.xml')\n",
        "  lab_tree = et.parse(lab_path)\n",
        "  root = lab_tree.getroot()\n",
        "  for boxs in root.findall('object'):\n",
        "    for box in boxs.findall('bndbox'):\n",
        "      x1 = int(box.find('xmin').text)\n",
        "      y1 = int(box.find('ymin').text)\n",
        "      x2 = int(box.find('xmax').text)\n",
        "      y2 = int(box.find('ymax').text)\n",
        "      print(x1,y1,x2,y2)\n",
        "      cv2.rectangle(img1, (x1,y1), (x2,y2), (10,35,246), 4)\n",
        "  fig, axes = plt.subplots(ncols=2)\n",
        "  fig.set_size_inches(18.5, 10.5)\n",
        "  axes[0].set_axis_off()\n",
        "  axes[0].imshow(img1)\n",
        "  axes[1].set_axis_off()\n",
        "  axes[1].imshow(img2)\n",
        "  plt.tight_layout()"
      ]
    },
    {
      "cell_type": "markdown",
      "metadata": {
        "id": "FVfPxKRxNUGv"
      },
      "source": [
        "Génération de fichier txt répertoriant tous les chemins des images train, test et validation"
      ]
    },
    {
      "cell_type": "code",
      "execution_count": null,
      "metadata": {
        "id": "cVQQobTsAjmY"
      },
      "outputs": [],
      "source": [
        "# from os import listdir\n",
        "# from os.path import isfile, join\n",
        "# train_directory = '/content/drive/MyDrive/hackathon/train/'\n",
        "# valid_directory = '/content/drive/MyDrive/hackathon/valid/'\n",
        "# test_directory = '/content/drive/MyDrive/hackathon/test/'\n",
        "# allfiles_train = [f for f in listdir(train_directory) if isfile(join(train_directory, f))]\n",
        "# allfiles_valid = [f for f in listdir(valid_directory) if isfile(join(valid_directory, f))]\n",
        "# allfiles_test = [f for f in listdir(test_directory) if isfile(join(test_directory, f))]\n",
        "\n",
        "# images_files_train = []\n",
        "# images_files_valid = []\n",
        "# images_files_test = []\n",
        " \n",
        "# # put all the images files into a list\n",
        "# for file in allfiles_train:\n",
        "#   if (file[len(file)-4:len(file)] != \".txt\"):\n",
        "#     images_files_train.append(train_directory +  file)\n",
        "\n",
        "# for file in allfiles_valid:\n",
        "#   if (file[len(file)-4:len(file)] != \".txt\"):\n",
        "#     images_files_valid.append(valid_directory +  file)\n",
        "\n",
        "# for file in allfiles_test:\n",
        "#   if (file[len(file)-4:len(file)] != \".txt\"):\n",
        "#     images_files_test.append(test_directory +  file)\n",
        " \n",
        "# path_doc = '/content/drive/MyDrive/hackathon/yolo/darknet/doc_data'\n",
        "# if not os.path.exists(path_doc):\n",
        "#        os.mkdir(path_doc)\n",
        "\n",
        "# with open('/content/drive/MyDrive/hackathon/yolo/darknet/doc_data/document_valid.txt', 'w') as f:\n",
        "#     for item in images_files_valid:\n",
        "#         f.write(\"%s\\n\" % item)\n",
        " \n",
        "# with open('/content/drive/MyDrive/hackathon/yolo/darknet/doc_data/document_training.txt', 'w') as f:\n",
        "#     for item in images_files_train:\n",
        "#         f.write(\"%s\\n\" % item)\n",
        "\n",
        "# with open('/content/drive/MyDrive/hackathon/yolo/darknet/doc_data/document_test.txt', 'w') as f:\n",
        "#     for item in images_files_test:\n",
        "#         f.write(\"%s\\n\" % item)"
      ]
    },
    {
      "cell_type": "markdown",
      "metadata": {
        "id": "J_2wTKwANhAG"
      },
      "source": [
        "Entrainement du modèle sur notre jeu de données"
      ]
    },
    {
      "cell_type": "code",
      "execution_count": null,
      "metadata": {
        "id": "Ejdgwe_6lxdi"
      },
      "outputs": [],
      "source": [
        "# !./darknet detector train doc_data/document.data '/content/drive/MyDrive/hackathon/yolo/airbus_yolov4.cfg' -map '/content/drive/MyDrive/hackathon/yolo/yolov4.conv.137' -dont_show"
      ]
    },
    {
      "cell_type": "code",
      "execution_count": null,
      "metadata": {
        "id": "GId49hwwRFZr"
      },
      "outputs": [],
      "source": [
        "# # cas d'erreur / arret\n",
        "# !./darknet detector train doc_data/document.data '/content/drive/MyDrive/hackathon/yolo/airbus_yolov4.cfg' backup/airbus_yolov4_last.weights -dont_show -map"
      ]
    },
    {
      "cell_type": "code",
      "execution_count": null,
      "metadata": {
        "id": "LrflO3M0nayy"
      },
      "outputs": [],
      "source": [
        "# Prédiction sur une image précise\n",
        "!./darknet detector test doc_data/document.data '/content/drive/MyDrive/hackathon/yolo/airbus_yolov4.cfg'  '/content/drive/MyDrive/hackathon/yolo/darknet/backup/airbus_yolov4_final.weights'  '/content/drive/MyDrive/hackathon/test/ID_6448067_44579_1230347162.jpg'"
      ]
    },
    {
      "cell_type": "code",
      "execution_count": null,
      "metadata": {
        "id": "_s7kcwoALDOy"
      },
      "outputs": [],
      "source": [
        "# visualisation de la prédiction\n",
        "image = '/content/drive/MyDrive/hackathon/test/ID_6448067_44579_1230347162.jpg'\n",
        "display(image)"
      ]
    },
    {
      "cell_type": "code",
      "execution_count": null,
      "metadata": {
        "id": "I7_5x-B9GXol"
      },
      "outputs": [],
      "source": [
        "# Prédiction sur une image précise\n",
        "!./darknet detector test doc_data/document.data '/content/drive/MyDrive/hackathon/yolo/airbus_yolov4.cfg'  '/content/drive/MyDrive/hackathon/yolo/darknet/backup/airbus_yolov4_final.weights'  '/content/drive/MyDrive/hackathon/test/ID10893_Mi17_RA-25748_4.jpg'"
      ]
    },
    {
      "cell_type": "code",
      "execution_count": null,
      "metadata": {
        "id": "_Q9BiJT3GSnQ"
      },
      "outputs": [],
      "source": [
        "# visualisation de la prédiction\n",
        "image = '/content/drive/MyDrive/hackathon/test/ID10893_Mi17_RA-25748_4.jpg'\n",
        "display(image)"
      ]
    },
    {
      "cell_type": "code",
      "execution_count": null,
      "metadata": {
        "id": "dDlEXLl49zO_"
      },
      "outputs": [],
      "source": [
        "# Prédiction sur une image précise\n",
        "!./darknet detector test doc_data/document.data '/content/drive/MyDrive/hackathon/yolo/airbus_yolov4.cfg'  '/content/drive/MyDrive/hackathon/yolo/darknet/backup/airbus_yolov4_final.weights'  '/content/drive/MyDrive/hackathon/test/ID6721_Mi17_RA-22429_1.jpg'"
      ]
    },
    {
      "cell_type": "code",
      "execution_count": null,
      "metadata": {
        "id": "5JYuJVl796wV"
      },
      "outputs": [],
      "source": [
        "# visualisation de la prédiction\n",
        "image = '/content/drive/MyDrive/hackathon/test/ID6721_Mi17_RA-22429_1.jpg'\n",
        "display(image)"
      ]
    },
    {
      "cell_type": "code",
      "execution_count": null,
      "metadata": {
        "id": "6n3iXd7gsHio"
      },
      "outputs": [],
      "source": [
        "path_test_prediction = '/content/drive/MyDrive/hackathon/test_prediction'\n",
        "if not os.path.exists(path_test_prediction):\n",
        "       os.mkdir(path_test_prediction)"
      ]
    },
    {
      "cell_type": "code",
      "execution_count": null,
      "metadata": {
        "id": "2yMhXJiClYTG"
      },
      "outputs": [],
      "source": [
        "# visualisation aléatoirement des images test\n",
        "path_test = '/content/drive/MyDrive/hackathon/test/'\n",
        "input_dir_test = os.listdir(path_test)\n",
        "for i in range(20):\n",
        "  file = random.choice(input_dir_test)\n",
        "  if file[len(file)-4:len(file)] != '.txt':\n",
        "    print(file)\n",
        "    img = os.path.join(path_test,file)\n",
        "    print(img)\n",
        "    with open('/content/drive/MyDrive/hackathon/yolo/test_file.txt', 'w') as f:\n",
        "      f.write(img)   \n",
        "    # plus de 30% \n",
        "    !./darknet detector test doc_data/document.data '/content/drive/MyDrive/hackathon/yolo/airbus_yolov4.cfg'  'backup/airbus_yolov4_final.weights' <'/content/drive/MyDrive/hackathon/yolo/test_file.txt'  #-thresh 0.3\n",
        "    display(img)\n",
        "    plt.show()\n",
        "    print('\\n')"
      ]
    },
    {
      "cell_type": "code",
      "execution_count": null,
      "metadata": {
        "id": "yzjC58PIuS2R"
      },
      "outputs": [],
      "source": [
        "# # Visualisation et génération des prédictions pour tous les images test\n",
        "# path_test = '/content/drive/MyDrive/hackathon/test/'\n",
        "# input_dir_test = os.listdir(path_test)\n",
        "# for file in input_dir_test:\n",
        "#   if file[len(file)-4:len(file)] != '.txt':\n",
        "#     # print(file)\n",
        "#     img = os.path.join(path_test,file)\n",
        "#     with open('/content/drive/MyDrive/hackathon/yolo/test_file.txt', 'w') as f:\n",
        "#       f.write(img)   \n",
        "#     # plus de 30% \n",
        "#     !./darknet detector test doc_data/document.data '/content/drive/MyDrive/hackathon/yolo/airbus_yolov4.cfg'  'backup/airbus_yolov4_final.weights' <'/content/drive/MyDrive/hackathon/yolo/test_file.txt' #-thresh 0.3\n",
        "#     img2 = imread('predictions.jpg')\n",
        "#     plt.imshow(img2)\n",
        "#     path_save = os.path.join(path_test_prediction, file)\n",
        "#     plt.savefig(path_save)"
      ]
    },
    {
      "cell_type": "code",
      "execution_count": null,
      "metadata": {
        "id": "K0_q9HL0m5Yn"
      },
      "outputs": [],
      "source": [
        "# # Génère un fichier txt contenant les résulats des prédictions des images test\n",
        "# !./darknet detector test doc_data/document.data '/content/drive/MyDrive/hackathon/yolo/airbus_yolov4.cfg'  'backup/airbus_yolov4_final.weights'  -dont_show -ext_output < doc_data/document_test.txt >  '/content/drive/MyDrive/hackathon/yolo/result.txt'"
      ]
    },
    {
      "cell_type": "code",
      "execution_count": null,
      "metadata": {
        "id": "UKyBZsCqrvAa"
      },
      "outputs": [],
      "source": [
        ""
      ]
    },
    {
      "cell_type": "markdown",
      "metadata": {
        "id": "7hrSuWNvrvlR"
      },
      "source": [
        "# Extraction des coordonnées des prédictions sur les images"
      ]
    },
    {
      "cell_type": "markdown",
      "metadata": {
        "id": "ThWxg1VZQY_y"
      },
      "source": [
        "On cherche à créer des listes contenant les coordonnées des prédictions sous format YOLO et sous le format xml de base. Avec ces listes , nous générerons des dataframes. \n",
        "On vérifie aussi, si le nomre de prédictions dans les labels est le meme que le nombre de prédiction du modèle afin de pouvoir calculer les métriques(AP, mAP)."
      ]
    },
    {
      "cell_type": "code",
      "execution_count": null,
      "metadata": {
        "id": "3e5AsIe7qd7L"
      },
      "outputs": [],
      "source": [
        "# création d'une fonction qui permet d'accéder aux sorties d'une prédiction\n",
        "def get_output_layers(net):\n",
        "    layer_names = net.getLayerNames()\n",
        "    output_layers = [layer_names[i[0] - 1] for i in net.getUnconnectedOutLayers()]\n",
        "    return output_layers\n",
        "\n",
        "scale = 0.00392\n",
        "classes = None\n",
        "with open('/content/drive/MyDrive/hackathon/yolo/classes.txt', 'r') as f:\n",
        "    classes = [line.strip() for line in f.readlines()]\n",
        "\n",
        "COLORS = np.random.uniform(0, 255, size=(len(classes), 3))"
      ]
    },
    {
      "cell_type": "code",
      "execution_count": null,
      "metadata": {
        "id": "gCOsU-XrSsHR"
      },
      "outputs": [],
      "source": [
        "list_coord = []\n",
        "list_coord2 = []\n",
        "label = 'Registration'\n",
        "paths = '/content/drive/MyDrive/hackathon/test'\n",
        "path_img = '/content/drive/MyDrive/hackathon/test'\n",
        "path_lab = '/content/drive/MyDrive/hackathon/labels'\n",
        "for file in os.listdir(paths):\n",
        "  if file[len(file)-4:len(file)] != '.txt':\n",
        "    file_lab = file.replace('.jpg', '.xml')\n",
        "    lab_tree = et.parse(os.path.join(path_lab,file_lab))\n",
        "    root = lab_tree.getroot()\n",
        "  image = cv2.imread(os.path.join(paths,file))\n",
        "  Width = image.shape[1]\n",
        "  Height = image.shape[0]\n",
        "  net = cv2.dnn.readNet('/content/drive/MyDrive/hackathon/yolo/darknet/backup/airbus_yolov4_final.weights', '/content/drive/MyDrive/hackathon/yolo/airbus_yolov4.cfg')\n",
        "  blob = cv2.dnn.blobFromImage(image, scale, (640,640), (0,0,0), True, crop=False)\n",
        "  net.setInput(blob)\n",
        "  outs = net.forward(get_output_layers(net))\n",
        "  class_ids = []\n",
        "  confidences = []\n",
        "  boxes = []\n",
        "  conf_threshold = 0.3\n",
        "  nms_threshold = 0.4\n",
        "  for out in outs:\n",
        "      for detection in out:\n",
        "          scores = detection[5:]\n",
        "          class_id = np.argmax(scores)\n",
        "          confidence = scores[class_id]\n",
        "          if confidence > 0.2:\n",
        "              center_x = int(detection[0] * Width)\n",
        "              center_y = int(detection[1] * Height)\n",
        "              w = int(detection[2] * Width)\n",
        "              h = int(detection[3] * Height)\n",
        "              x = center_x - w / 2\n",
        "              y = center_y - h / 2\n",
        "              class_ids.append(class_id)\n",
        "              confidences.append(float(confidence))\n",
        "              boxes.append([round(x), round(y), round(w), round(h)])\n",
        "  indices = cv2.dnn.NMSBoxes(boxes, confidences, conf_threshold, nms_threshold)\n",
        "  for i in indices:\n",
        "    i = i[0]\n",
        "    confidence = confidences[i]\n",
        "    box = boxes[i]\n",
        "    x = box[0]\n",
        "    y = box[1]\n",
        "    w = box[2]\n",
        "    h = box[3]\n",
        "    coord = file + ' ' + str(confidence) + ' ' + str(x/Width) + ' ' + str(y/Height) + ' ' +str((x+w)/Width) + ' ' + str((y+h)/Height)\n",
        "    coord2 = file + ' ' + label +  ' ' + str(confidence) + ' ' + str(x/Width) + ' ' + str(y/Height) + ' ' +str((x+w)/Width) + ' ' + str((y+h)/Height)\n",
        "    list_coord.append(coord)\n",
        "    list_coord2.append(coord2)"
      ]
    },
    {
      "cell_type": "code",
      "execution_count": null,
      "metadata": {
        "id": "QiqkovBJqwzf"
      },
      "outputs": [],
      "source": [
        "dict = {'ID': [x.split()[0] for x in list_coord],\n",
        "        'Confidence': [x.split()[1] for x in list_coord],\n",
        "        'xmin': [x.split()[2] for x in list_coord],\n",
        "        'ymin': [x.split()[3] for x in list_coord],\n",
        "        'xmax': [x.split()[4] for x in list_coord],\n",
        "        'ymax': [x.split()[5] for x in list_coord]}\n",
        "df = pd.DataFrame(dict)\n",
        "df"
      ]
    },
    {
      "cell_type": "code",
      "execution_count": null,
      "metadata": {
        "id": "k3mLkG7Vq3l-"
      },
      "outputs": [],
      "source": [
        "df.to_csv('/content/drive/MyDrive/hackathon/yolo/registration.csv')"
      ]
    },
    {
      "cell_type": "markdown",
      "metadata": {
        "id": "0hfK9L4b9EOh"
      },
      "source": [
        "# Calcul des métriques"
      ]
    },
    {
      "cell_type": "code",
      "execution_count": null,
      "metadata": {
        "id": "xyR21krxkjfy"
      },
      "outputs": [],
      "source": [
        "dict_det = {'ImageID': [x.split()[0] for x in list_coord2],\n",
        "            'LabelName': [x.split()[1] for x in list_coord2],\n",
        "            'Conf': [x.split()[2] for x in list_coord2],\n",
        "            'XMin': [x.split()[3] for x in list_coord2],\n",
        "            'YMin': [x.split()[4] for x in list_coord2],\n",
        "            'XMax': [x.split()[5] for x in list_coord2],\n",
        "            'YMax': [x.split()[6] for x in list_coord2]}\n",
        "det = pd.DataFrame(dict_det)\n",
        "det"
      ]
    },
    {
      "cell_type": "code",
      "execution_count": null,
      "metadata": {
        "id": "QY9no0a1lhJE"
      },
      "outputs": [],
      "source": [
        "path_img = '/content/drive/MyDrive/hackathon/test'\n",
        "path_lab = '/content/drive/MyDrive/hackathon/labels'\n",
        "input_dir = os.listdir(path_img)\n",
        "list_coor = []\n",
        "label = 'Registration'\n",
        "for file in input_dir:\n",
        "  if file[len(file)-4:len(file)] != '.txt':\n",
        "    file_lab = file.replace('.jpg', '.xml')\n",
        "    lab_tree = et.parse(os.path.join(path_lab,file_lab))\n",
        "    root = lab_tree.getroot()\n",
        "    for boxs in root.findall('object'):\n",
        "      for box in boxs.findall('bndbox'):\n",
        "        xmin = int(box.find('xmin').text)\n",
        "        ymin = int(box.find('ymin').text)\n",
        "        xmax = int(box.find('xmax').text)\n",
        "        ymax = int(box.find('ymax').text)\n",
        "        w = int(root[4][0].text)\n",
        "        h = int(root[4][1].text)\n",
        "        coord = file + ' ' + label +  ' ' + str(xmin/w) + ' ' + str(ymin/h) + ' ' +str(xmax/w) + ' ' + str(ymax/h)\n",
        "        list_coor.append(coord)"
      ]
    },
    {
      "cell_type": "code",
      "execution_count": null,
      "metadata": {
        "id": "DDuuU215oYYz"
      },
      "outputs": [],
      "source": [
        "dict_ann = {'ImageID': [x.split()[0] for x in list_coor],\n",
        "            'LabelName': [x.split()[1] for x in list_coor],\n",
        "            'XMin': [x.split()[2] for x in list_coor],\n",
        "            'YMin': [x.split()[3] for x in list_coor],\n",
        "            'XMax': [x.split()[4] for x in list_coor],\n",
        "            'YMax': [x.split()[5] for x in list_coor]}\n",
        "ann = pd.DataFrame(dict_ann)\n",
        "ann"
      ]
    },
    {
      "cell_type": "code",
      "execution_count": null,
      "metadata": {
        "id": "0ZMGNv6vijq1"
      },
      "outputs": [],
      "source": [
        "ann1 = ann[['ImageID', 'LabelName', 'XMin', 'XMax', 'YMin', 'YMax']].values\n",
        "det1 = det[['ImageID', 'LabelName', 'Conf', 'XMin', 'XMax', 'YMin', 'YMax']].values\n",
        "mean_ap, average_precisions = mean_average_precision_for_boxes(ann1, det1)"
      ]
    },
    {
      "cell_type": "code",
      "execution_count": null,
      "metadata": {
        "id": "nCFp0X3KAVuD"
      },
      "outputs": [],
      "source": [
        "ann['mAP'] = 0\n",
        "ann['AP'] = 0\n",
        "for i in range(len(ann)):\n",
        "  x = ann.loc[i, 'ImageID']\n",
        "  ann1 = ann[ann['ImageID'] == x ]\n",
        "  ann1 = ann1[['ImageID', 'LabelName', 'XMin', 'XMax', 'YMin', 'YMax']].values\n",
        "  det1 = det[det['ImageID'] == x ]\n",
        "  det1 = det1[['ImageID', 'LabelName', 'Conf', 'XMin', 'XMax', 'YMin', 'YMax']].values\n",
        "  mean_ap, average_precisions = mean_average_precision_for_boxes(ann1, det1)\n",
        "  ann.loc[i, 'mAP'] = mean_ap\n",
        "  ann.loc[i, 'AP'] =  average_precisions['Registration'][0]"
      ]
    },
    {
      "cell_type": "code",
      "execution_count": null,
      "metadata": {
        "id": "E77ZpWruAUB3"
      },
      "outputs": [],
      "source": [
        "ann"
      ]
    },
    {
      "cell_type": "code",
      "execution_count": null,
      "metadata": {
        "id": "N96nDdJTDYXu"
      },
      "outputs": [],
      "source": [
        "df_final = ann[['ImageID', 'AP', 'mAP']]\n",
        "df_final"
      ]
    },
    {
      "cell_type": "code",
      "execution_count": null,
      "metadata": {
        "id": "sgQLL564C1fM"
      },
      "outputs": [],
      "source": [
        "df_final.to_csv('/content/drive/MyDrive/hackathon/yolo/registration_metrics.csv')"
      ]
    },
    {
      "cell_type": "code",
      "execution_count": null,
      "metadata": {
        "id": "Bwa331orDh42"
      },
      "outputs": [],
      "source": [
        ""
      ]
    },
    {
      "cell_type": "markdown",
      "metadata": {
        "id": "JWWVeJku2Rgv"
      },
      "source": [
        "# OCR"
      ]
    },
    {
      "cell_type": "code",
      "execution_count": null,
      "metadata": {
        "id": "ggk9FsBQ5Dxo"
      },
      "outputs": [],
      "source": [
        "# path_ocr = '/content/drive/MyDrive/hackathon/ocr'\n",
        "# if not os.path.exists(path_ocr):\n",
        "#        os.mkdir(path_ocr)"
      ]
    },
    {
      "cell_type": "code",
      "execution_count": null,
      "metadata": {
        "id": "4IqumaY4pcfY"
      },
      "outputs": [],
      "source": [
        "df_jetson = pd.read_csv('/content/drive/MyDrive/hackathon/yolo/registration_data.csv')\n",
        "df_jetson"
      ]
    },
    {
      "cell_type": "code",
      "execution_count": null,
      "metadata": {
        "id": "twgOPf5WpxIe"
      },
      "outputs": [],
      "source": [
        "df_jetson = df_jetson[df_jetson['Source'] == 'Jetson']\n",
        "df_jetson"
      ]
    },
    {
      "cell_type": "code",
      "execution_count": null,
      "metadata": {
        "id": "Ka5Ykq14p6Jt"
      },
      "outputs": [],
      "source": [
        "list_img_jetson = []\n",
        "repertorys = ['train', 'test', 'valid']\n",
        "for repertory in repertorys:\n",
        "  path_repertory = '/content/drive/MyDrive/hackathon' + '/' + repertory\n",
        "  for file in os.listdir(path_repertory):\n",
        "    if (file[len(file)-4:len(file)] != \".txt\"):\n",
        "      list_img_jetson.append((path_repertory.split('/content/drive/MyDrive/hackathon')[-1]) + '/' + file)\n",
        "list_img_jetson"
      ]
    },
    {
      "cell_type": "code",
      "execution_count": null,
      "metadata": {
        "id": "i5388tPuqBvJ"
      },
      "outputs": [],
      "source": [
        "df_jetson = df_jetson.reset_index(drop=True)\n",
        "df_jetson"
      ]
    },
    {
      "cell_type": "code",
      "execution_count": null,
      "metadata": {
        "id": "rWCJs4GCqEeX"
      },
      "outputs": [],
      "source": [
        "df_jetson['Path'] = None\n",
        "for i in df_jetson.index:\n",
        "  x = df_jetson.loc[i, 'Photo_ID']\n",
        "  for y in list_img_jetson:\n",
        "    if x in y:\n",
        "      df_jetson.loc[i, 'Path'] = y "
      ]
    },
    {
      "cell_type": "code",
      "execution_count": null,
      "metadata": {
        "id": "UeIoIIEjqHb3"
      },
      "outputs": [],
      "source": [
        "df_jetson"
      ]
    },
    {
      "cell_type": "code",
      "execution_count": null,
      "metadata": {
        "id": "iuN5nAQGqObC"
      },
      "outputs": [],
      "source": [
        "df_jetson[df_jetson['Path'].isna()]"
      ]
    },
    {
      "cell_type": "code",
      "execution_count": null,
      "metadata": {
        "id": "yPLc39LRqPWI"
      },
      "outputs": [],
      "source": [
        "df_jetson.dropna(subset=['Path'], inplace=True)"
      ]
    },
    {
      "cell_type": "code",
      "execution_count": null,
      "metadata": {
        "id": "Wop8Jo8zqX8E"
      },
      "outputs": [],
      "source": [
        "df_jetson = df_jetson.reset_index(drop=True)\n",
        "df_jetson"
      ]
    },
    {
      "cell_type": "code",
      "execution_count": null,
      "metadata": {
        "id": "pRhxUOCjq7tr"
      },
      "outputs": [],
      "source": [
        "image = cv2.imread('/content/drive/MyDrive/hackathon/train/ID_10236506_17076_1626433515.jpg')\n",
        "\n",
        "Width = image.shape[1]\n",
        "Height = image.shape[0]\n",
        "scale = 0.00392\n",
        "\n",
        "classes = None\n",
        "\n",
        "with open('/content/drive/MyDrive/hackathon/yolo/classes.txt', 'r') as f:\n",
        "    classes = [line.strip() for line in f.readlines()]\n",
        "\n",
        "COLORS = np.random.uniform(0, 255, size=(len(classes), 3))\n",
        "\n",
        "net = cv2.dnn.readNet('/content/drive/MyDrive/hackathon/yolo/darknet/backup/airbus_yolov4_final.weights', '/content/drive/MyDrive/hackathon/yolo/airbus_yolov4.cfg')\n",
        "\n",
        "blob = cv2.dnn.blobFromImage(image, scale, (640,640), (0,0,0), True, crop=False)\n",
        "\n",
        "net.setInput(blob)\n",
        "\n",
        "outs = net.forward(get_output_layers(net))\n",
        "class_ids = []\n",
        "confidences = []\n",
        "boxes = []\n",
        "conf_threshold = 0.3\n",
        "nms_threshold = 0.4\n",
        "\n",
        "c = 0\n",
        "for out in outs:\n",
        "    for detection in out:\n",
        "        scores = detection[5:]\n",
        "        class_id = np.argmax(scores)\n",
        "        confidence = scores[class_id]\n",
        "        if confidence > 0.2:\n",
        "              center_x = int(detection[0] * Width)\n",
        "              center_y = int(detection[1] * Height)\n",
        "              w = int(detection[2] * Width)\n",
        "              h = int(detection[3] * Height)\n",
        "              x = center_x - w / 2\n",
        "              y = center_y - h / 2\n",
        "              class_ids.append(class_id)\n",
        "              confidences.append(float(confidence))\n",
        "              boxes.append([round(x), round(y), round(w), round(h)])\n",
        "indices = cv2.dnn.NMSBoxes(boxes, confidences, conf_threshold, nms_threshold)\n",
        "for i in indices:\n",
        "    i = i[0]\n",
        "    box = boxes[i]\n",
        "    x = box[0]\n",
        "    y = box[1]\n",
        "    w = box[2]\n",
        "    h = box[3]\n",
        "    crop_img = image[y:y+h, x:x+w]\n",
        "    print(crop_img.shape, image.shape)\n",
        "    cv2_imshow(image)\n",
        "    cv2_imshow(crop_img)"
      ]
    },
    {
      "cell_type": "code",
      "execution_count": null,
      "metadata": {
        "id": "TAGQP06NrUb5"
      },
      "outputs": [],
      "source": [
        "reader = easyocr.Reader(['en'])\n",
        "result = reader.readtext(crop_img, paragraph=\"False\")\n",
        "result"
      ]
    },
    {
      "cell_type": "code",
      "execution_count": null,
      "metadata": {
        "id": "7VX3igyWxe8i"
      },
      "outputs": [],
      "source": [
        ""
      ]
    },
    {
      "cell_type": "code",
      "execution_count": null,
      "metadata": {
        "id": "lpq6fY4KriRr"
      },
      "outputs": [],
      "source": [
        "df_jetson['Registration_OCR'] = None\n",
        "reader = easyocr.Reader(['en'])\n",
        "for ind in range(len(df_jetson)):\n",
        "# for ind in range(15):\n",
        "  x = df_jetson.loc[ind, 'Path']\n",
        "  x = '/content/drive/MyDrive/hackathon' + x\n",
        "  image = cv2.imread(x)\n",
        "  Width = image.shape[1]\n",
        "  Height = image.shape[0]\n",
        "  scale = 0.00392\n",
        "  classes = None\n",
        "  with open('/content/drive/MyDrive/hackathon/yolo/classes.txt', 'r') as f:\n",
        "      classes = [line.strip() for line in f.readlines()]\n",
        "  COLORS = np.random.uniform(0, 255, size=(len(classes), 3))\n",
        "  net = cv2.dnn.readNet('/content/drive/MyDrive/hackathon/yolo/darknet/backup/airbus_yolov4_final.weights', '/content/drive/MyDrive/hackathon/yolo/airbus_yolov4.cfg')\n",
        "  blob = cv2.dnn.blobFromImage(image, scale, (640,640), (0,0,0), True, crop=False)\n",
        "  net.setInput(blob)\n",
        "  outs = net.forward(get_output_layers(net))\n",
        "  class_ids = []\n",
        "  confidences = []\n",
        "  boxes = []\n",
        "  conf_threshold = 0.3\n",
        "  nms_threshold = 0.4\n",
        "  for out in outs:\n",
        "      for detection in out:\n",
        "          scores = detection[5:]\n",
        "          class_id = np.argmax(scores)\n",
        "          confidence = scores[class_id]\n",
        "          if confidence > 0.2:\n",
        "                center_x = int(detection[0] * Width)\n",
        "                center_y = int(detection[1] * Height)\n",
        "                w = int(detection[2] * Width)\n",
        "                h = int(detection[3] * Height)\n",
        "                x = center_x - w / 2\n",
        "                y = center_y - h / 2\n",
        "                class_ids.append(class_id)\n",
        "                confidences.append(float(confidence))\n",
        "                boxes.append([round(x), round(y), round(w), round(h)])\n",
        "  indices = cv2.dnn.NMSBoxes(boxes, confidences, conf_threshold, nms_threshold)\n",
        "  result_list = []\n",
        "  if len(indices) == 0:\n",
        "    continue\n",
        "  for i in indices:\n",
        "      i = i[0]\n",
        "      box = boxes[i]\n",
        "      x = box[0]\n",
        "      y = box[1]\n",
        "      w = box[2]\n",
        "      h = box[3]\n",
        "      for x_crop in range(-18, 48, 3):\n",
        "        for y_crop in range(-18, 48, 3): \n",
        "          crop_img = image[y-y_crop:y+h+y_crop, x-x_crop:x+w+x_crop]\n",
        "          try:\n",
        "            result = reader.readtext(crop_img, paragraph=\"False\")\n",
        "            if len(result) == 1:\n",
        "              result = result[0][1]\n",
        "              # result = result[0][1][0:6]\n",
        "            elif len(result) == 2:\n",
        "              result = result[0][1][0:6] + result[1][1]\n",
        "              # result = result[0][1] + result[1][1][0:6]\n",
        "          except:\n",
        "            result = None\n",
        "          result_list.append(result)\n",
        "          # print(result)\n",
        "          if df_jetson.loc[ind, 'Registration'] in result_list:\n",
        "            break\n",
        "        if df_jetson.loc[ind, 'Registration'] in result_list:\n",
        "          break\n",
        "      if df_jetson.loc[ind, 'Registration'] in result_list:\n",
        "        break\n",
        "  df_jetson['Registration_OCR'][ind] = result_list"
      ]
    },
    {
      "cell_type": "code",
      "execution_count": null,
      "metadata": {
        "id": "isF9gYnnrloP"
      },
      "outputs": [],
      "source": [
        "df_jetson.head(25)"
      ]
    },
    {
      "cell_type": "code",
      "execution_count": null,
      "metadata": {
        "id": "kSrZgBw9Kwkf"
      },
      "outputs": [],
      "source": [
        "df_jetson[df_jetson['Registration_OCR'].isna()]"
      ]
    },
    {
      "cell_type": "code",
      "execution_count": null,
      "metadata": {
        "id": "qm1-7-Au7pU9"
      },
      "outputs": [],
      "source": [
        "df_jetson[df_jetson['Registration_OCR'].isna()].count()"
      ]
    },
    {
      "cell_type": "code",
      "execution_count": null,
      "metadata": {
        "id": "B4bqYbWBuqY4"
      },
      "outputs": [],
      "source": [
        "number_registration = len(df_jetson)\n",
        "number_registration"
      ]
    },
    {
      "cell_type": "code",
      "execution_count": null,
      "metadata": {
        "id": "BVBppdMH-p6w"
      },
      "outputs": [],
      "source": [
        "df_jetson['Read'] = None\n",
        "df_jetson"
      ]
    },
    {
      "cell_type": "code",
      "execution_count": null,
      "metadata": {
        "id": "SxvJCH2EmzgX"
      },
      "outputs": [],
      "source": [
        "for i in df_jetson.index:\n",
        "  x = df_jetson.loc[i, 'Registration_OCR']\n",
        "  y = df_jetson.loc[i, 'Registration']\n",
        "  if x == None:\n",
        "    continue\n",
        "  # print(x)\n",
        "  if y in x:\n",
        "    df_jetson.loc[i, 'Read'] = 1\n",
        "  else:\n",
        "    df_jetson.loc[i, 'Read'] = 0\n",
        "df_jetson"
      ]
    },
    {
      "cell_type": "code",
      "execution_count": null,
      "metadata": {
        "id": "P-hD5SbxRA5a"
      },
      "outputs": [],
      "source": [
        "number_read = df_jetson.Read.sum()\n",
        "number_read"
      ]
    },
    {
      "cell_type": "code",
      "execution_count": null,
      "metadata": {
        "id": "Yb-YOyPxCzQH"
      },
      "outputs": [],
      "source": [
        "percentage_read = (number_read /number_registration)*100\n",
        "percentage_read"
      ]
    },
    {
      "cell_type": "code",
      "execution_count": null,
      "metadata": {
        "id": "F_Bi9hOrrrbZ"
      },
      "outputs": [],
      "source": [
        "df_jetson = df_jetson.drop(['Path', 'Unnamed: 0'] , axis=1)\n",
        "df_jetson"
      ]
    },
    {
      "cell_type": "code",
      "execution_count": null,
      "metadata": {
        "id": "EqNZgkDXr3W5"
      },
      "outputs": [],
      "source": [
        "df_jetson.to_csv('/content/drive/MyDrive/hackathon/yolo/registration_data_final.csv')"
      ]
    },
    {
      "cell_type": "code",
      "execution_count": null,
      "metadata": {
        "id": "u0V6VAZmNIAw"
      },
      "outputs": [],
      "source": [
        ""
      ]
    }
  ],
  "metadata": {
    "accelerator": "GPU",
    "colab": {
      "collapsed_sections": [],
      "machine_shape": "hm",
      "name": "AirBus_amélioré.ipynb",
      "provenance": [],
      "authorship_tag": "ABX9TyNAyYum6CaQqNIRVs6GOapK"
    },
    "kernelspec": {
      "display_name": "Python 3",
      "name": "python3"
    },
    "language_info": {
      "name": "python"
    }
  },
  "nbformat": 4,
  "nbformat_minor": 0
}